{
  "cells": [
    {
      "cell_type": "markdown",
      "metadata": {
        "id": "WHkPACcjJULD"
      },
      "source": [
        "\n",
        "<a href=\"https://colab.research.google.com/github/OsipovOleg/crash-python-notebooks/blob/master/scientific_computing.ipynb\">\n",
        "  <img src=\"https://colab.research.google.com/assets/colab-badge.svg\" alt=\"Open In Colab\"/>\n",
        "</a>\n"
      ]
    },
    {
      "cell_type": "markdown",
      "metadata": {
        "id": "OyV607cmJULF"
      },
      "source": [
        "# Байесовская регрессия"
      ]
    },
    {
      "cell_type": "markdown",
      "metadata": {
        "id": "JLYbj4S-JULH"
      },
      "source": [
        "Пусть дана обучающая выборка $\\mathcal{D}$, состоящая из $N$ элементов, которая получена следующим образом: \n",
        "\n",
        "$$\n",
        "y_i = w_0 + x_i w_1 + N(0, \\sigma^2).\n",
        "$$\n",
        "\n",
        "Пусть априорное распределение для каждого из весов является нормальным. \n",
        "\n",
        "1. Получите вид апостериорного распределения $p(w| \\mathcal{D})$.\n",
        "2. Рассмотрите как меняется апостериорное распреление весов в зависимости *от числа объектов*, которые мы используем для обучения модели. \n",
        "- Получите параметры этого распределения. \n",
        "- Постройте плотности распределения весов. \n",
        "- Просемлируйте несколько значений весов из полученного апостериорного распределения и постройте предсказания (линии регересии на некотором интервале).\n",
        "3. Как ведут себя полученные линии при добавлении новых данных. Какие выводы можно сделать. "
      ]
    },
    {
      "cell_type": "markdown",
      "metadata": {
        "id": "tQMqvQ-bJULI"
      },
      "source": [
        "1. \n",
        "\n",
        "w_0 = -1/2 * -2 sum(y_i) (i = 0...N) /b^2 + -1/2 * 2m/d^2\n",
        "\n",
        "w_1 = -1/2 * -2 sum(y_i) (i = 0...N) sum(x_i) (i = 0...N) /b^2 + -1/2 * 2m/d^2\n",
        "\n",
        "w_0*w_1 = -1/2 * 2 sum(x_i) (i = 0...N)/b^2"
      ]
    },
    {
      "cell_type": "markdown",
      "metadata": {
        "id": "Rsg5dRA6JULL"
      },
      "source": [
        "/// подсчеты ////\n",
        "\n",
        "мы доказали соответствие с нормальным распределением, из чего делаем вывод, что\n",
        "\n",
        "p(w|D) = 1/(pi * q_1 * q_2 * sqrt(1 - p^2)) exp(-1/2(1 - p^2) * [(x_1 - m_1)^2/q_1^2 - p* (2 (x_1-m_1)(x_2-m_2)/(q_1 * q_2)) + (x_2-m_2)^2/q_2^2])"
      ]
    },
    {
      "cell_type": "markdown",
      "metadata": {
        "id": "JgsmP8o_JULM"
      },
      "source": [
        "КОД ЧАСТЬ ПОДСЧЕТОВ РАСПРЕДЕЛЕНИЯ"
      ]
    },
    {
      "cell_type": "code",
      "execution_count": 80,
      "metadata": {
        "id": "FNIx915YJULN"
      },
      "outputs": [],
      "source": [
        "import numpy as np\n",
        "from numpy.linalg import inv\n",
        "from numpy.linalg import solve\n",
        "import matplotlib.pyplot as plt\n",
        "from scipy.stats import multivariate_normal"
      ]
    },
    {
      "cell_type": "code",
      "execution_count": 81,
      "metadata": {
        "colab": {
          "base_uri": "https://localhost:8080/"
        },
        "id": "xOL7uQKmJULN",
        "outputId": "a1e209ef-3c77-4cc5-c1d3-51898c347f92"
      },
      "outputs": [
        {
          "data": {
            "text/plain": [
              "array([[ 1.        , -0.1382643 ],\n",
              "       [ 1.        ,  1.52302986],\n",
              "       [ 1.        , -0.23413696],\n",
              "       [ 1.        ,  0.76743473],\n",
              "       [ 1.        ,  0.54256004],\n",
              "       [ 1.        , -0.46572975],\n",
              "       [ 1.        , -1.91328024],\n",
              "       [ 1.        , -0.56228753],\n",
              "       [ 1.        ,  0.31424733],\n",
              "       [ 1.        , -1.4123037 ]])"
            ]
          },
          "execution_count": 81,
          "metadata": {},
          "output_type": "execute_result"
        }
      ],
      "source": [
        "np.random.seed(42)\n",
        "true_weight = np.array([[4], [1]])\n",
        "N = 100\n",
        "X = np.random.normal(size = (N, 2))\n",
        "X[:, 0] = 1\n",
        "X[:10]"
      ]
    },
    {
      "cell_type": "code",
      "execution_count": 82,
      "metadata": {
        "colab": {
          "base_uri": "https://localhost:8080/"
        },
        "id": "efT33lQAJULO",
        "outputId": "fdf68a13-2cb3-4502-8503-909ffb323d87"
      },
      "outputs": [
        {
          "data": {
            "text/plain": [
              "array([[4.21952306],\n",
              "       [6.08381438],\n",
              "       [4.84891429],\n",
              "       [5.82123678],\n",
              "       [3.16489068]])"
            ]
          },
          "execution_count": 82,
          "metadata": {},
          "output_type": "execute_result"
        }
      ],
      "source": [
        "noize_sigma = 1\n",
        "y = X@true_weight\n",
        "y += np.random.normal(size = y.shape, scale = noize_sigma)\n",
        "y[:5]"
      ]
    },
    {
      "cell_type": "code",
      "execution_count": 83,
      "metadata": {
        "id": "yCjAcmElJULQ"
      },
      "outputs": [],
      "source": [
        "weight_sigma = 1\n",
        "weight_sigma_matrix = np.array(np.eye(2)*(weight_sigma**2))\n",
        "m = 0"
      ]
    },
    {
      "cell_type": "code",
      "execution_count": 84,
      "metadata": {
        "colab": {
          "base_uri": "https://localhost:8080/"
        },
        "id": "DccQ-h3GJULR",
        "outputId": "181ca86d-d98d-4f7e-9f82-55cfd1e62fcb"
      },
      "outputs": [
        {
          "data": {
            "text/plain": [
              "-50.5"
            ]
          },
          "execution_count": 84,
          "metadata": {},
          "output_type": "execute_result"
        }
      ],
      "source": [
        "# w_0**2\n",
        "xi_1 = - 1/(2*weight_sigma**2)*N - 1/(2*noize_sigma**2) \n",
        "xi_1"
      ]
    },
    {
      "cell_type": "code",
      "execution_count": 85,
      "metadata": {
        "colab": {
          "base_uri": "https://localhost:8080/"
        },
        "id": "oJI3K8kuLm1m",
        "outputId": "89a19d3e-16d7-4f93-8941-7e21eebe6fb7"
      },
      "outputs": [
        {
          "data": {
            "text/plain": [
              "array([-0.1382643 ,  1.52302986, -0.23413696,  0.76743473,  0.54256004,\n",
              "       -0.46572975, -1.91328024, -0.56228753,  0.31424733, -1.4123037 ,\n",
              "       -0.2257763 , -1.42474819,  0.11092259,  0.37569802, -0.29169375,\n",
              "        1.85227818, -1.05771093, -1.22084365, -1.95967012,  0.19686124,\n",
              "        0.17136828, -0.3011037 , -0.71984421,  1.05712223, -1.76304016,\n",
              "       -0.38508228,  0.61167629,  0.93128012, -0.30921238,  0.97554513,\n",
              "       -0.18565898, -1.19620662,  1.35624003,  1.0035329 , -0.64511975,\n",
              "        1.53803657,  1.56464366,  0.8219025 , -0.29900735, -1.98756891,\n",
              "        0.35711257, -0.51827022, -0.50175704,  0.32875111,  0.51326743,\n",
              "        0.96864499, -0.32766215, -1.46351495,  0.26105527, -0.23458713,\n",
              "       -0.42064532, -0.80227727,  0.40405086,  0.17457781, -0.07444592,\n",
              "       -0.02651388,  2.46324211,  0.30154734, -1.16867804,  0.75193303,\n",
              "       -0.90938745, -1.40185106,  2.19045563, -0.56629773, -0.50347565,\n",
              "        0.06856297,  0.47359243,  1.54993441, -0.32206152, -1.23086432,\n",
              "        1.30714275,  0.18463386,  0.78182287, -1.32045661,  0.29698467,\n",
              "        0.34644821,  0.2322537 , -0.71435142,  0.47383292,  0.65655361,\n",
              "        0.7870846 , -0.82068232,  0.41278093,  1.89679298, -0.75373616,\n",
              "       -0.81581028,  0.34115197,  0.82718325,  1.45353408,  2.72016917,\n",
              "       -0.85715756,  0.48247242,  0.71400049, -0.07282891, -1.51484722,\n",
              "        0.85639879, -1.24573878,  0.38531738,  0.15372511, -1.1429703 ])"
            ]
          },
          "execution_count": 85,
          "metadata": {},
          "output_type": "execute_result"
        }
      ],
      "source": [
        "x = X[:, 1]\n",
        "x"
      ]
    },
    {
      "cell_type": "code",
      "execution_count": 86,
      "metadata": {
        "colab": {
          "base_uri": "https://localhost:8080/"
        },
        "id": "3QjdmFuqJULS",
        "outputId": "64b59181-8254-46b2-c0ae-884d314942e7"
      },
      "outputs": [
        {
          "data": {
            "text/plain": [
              "-49.94493758187462"
            ]
          },
          "execution_count": 86,
          "metadata": {},
          "output_type": "execute_result"
        }
      ],
      "source": [
        "# w_1**2\n",
        "xi_2 = - 1/(2*(weight_sigma**2))*(x**2).sum() - 1/(2*(noize_sigma**2))\n",
        "xi_2"
      ]
    },
    {
      "cell_type": "code",
      "execution_count": 87,
      "metadata": {
        "colab": {
          "base_uri": "https://localhost:8080/"
        },
        "id": "8NGXwzsMLiJn",
        "outputId": "cfaf8a96-7d25-4ca0-86a2-af60faefcd5b"
      },
      "outputs": [
        {
          "data": {
            "text/plain": [
              "array([[ 1.        , -0.1382643 ],\n",
              "       [ 1.        ,  1.52302986],\n",
              "       [ 1.        , -0.23413696],\n",
              "       [ 1.        ,  0.76743473],\n",
              "       [ 1.        ,  0.54256004],\n",
              "       [ 1.        , -0.46572975],\n",
              "       [ 1.        , -1.91328024],\n",
              "       [ 1.        , -0.56228753],\n",
              "       [ 1.        ,  0.31424733],\n",
              "       [ 1.        , -1.4123037 ],\n",
              "       [ 1.        , -0.2257763 ],\n",
              "       [ 1.        , -1.42474819],\n",
              "       [ 1.        ,  0.11092259],\n",
              "       [ 1.        ,  0.37569802],\n",
              "       [ 1.        , -0.29169375],\n",
              "       [ 1.        ,  1.85227818],\n",
              "       [ 1.        , -1.05771093],\n",
              "       [ 1.        , -1.22084365],\n",
              "       [ 1.        , -1.95967012],\n",
              "       [ 1.        ,  0.19686124],\n",
              "       [ 1.        ,  0.17136828],\n",
              "       [ 1.        , -0.3011037 ],\n",
              "       [ 1.        , -0.71984421],\n",
              "       [ 1.        ,  1.05712223],\n",
              "       [ 1.        , -1.76304016],\n",
              "       [ 1.        , -0.38508228],\n",
              "       [ 1.        ,  0.61167629],\n",
              "       [ 1.        ,  0.93128012],\n",
              "       [ 1.        , -0.30921238],\n",
              "       [ 1.        ,  0.97554513],\n",
              "       [ 1.        , -0.18565898],\n",
              "       [ 1.        , -1.19620662],\n",
              "       [ 1.        ,  1.35624003],\n",
              "       [ 1.        ,  1.0035329 ],\n",
              "       [ 1.        , -0.64511975],\n",
              "       [ 1.        ,  1.53803657],\n",
              "       [ 1.        ,  1.56464366],\n",
              "       [ 1.        ,  0.8219025 ],\n",
              "       [ 1.        , -0.29900735],\n",
              "       [ 1.        , -1.98756891],\n",
              "       [ 1.        ,  0.35711257],\n",
              "       [ 1.        , -0.51827022],\n",
              "       [ 1.        , -0.50175704],\n",
              "       [ 1.        ,  0.32875111],\n",
              "       [ 1.        ,  0.51326743],\n",
              "       [ 1.        ,  0.96864499],\n",
              "       [ 1.        , -0.32766215],\n",
              "       [ 1.        , -1.46351495],\n",
              "       [ 1.        ,  0.26105527],\n",
              "       [ 1.        , -0.23458713],\n",
              "       [ 1.        , -0.42064532],\n",
              "       [ 1.        , -0.80227727],\n",
              "       [ 1.        ,  0.40405086],\n",
              "       [ 1.        ,  0.17457781],\n",
              "       [ 1.        , -0.07444592],\n",
              "       [ 1.        , -0.02651388],\n",
              "       [ 1.        ,  2.46324211],\n",
              "       [ 1.        ,  0.30154734],\n",
              "       [ 1.        , -1.16867804],\n",
              "       [ 1.        ,  0.75193303],\n",
              "       [ 1.        , -0.90938745],\n",
              "       [ 1.        , -1.40185106],\n",
              "       [ 1.        ,  2.19045563],\n",
              "       [ 1.        , -0.56629773],\n",
              "       [ 1.        , -0.50347565],\n",
              "       [ 1.        ,  0.06856297],\n",
              "       [ 1.        ,  0.47359243],\n",
              "       [ 1.        ,  1.54993441],\n",
              "       [ 1.        , -0.32206152],\n",
              "       [ 1.        , -1.23086432],\n",
              "       [ 1.        ,  1.30714275],\n",
              "       [ 1.        ,  0.18463386],\n",
              "       [ 1.        ,  0.78182287],\n",
              "       [ 1.        , -1.32045661],\n",
              "       [ 1.        ,  0.29698467],\n",
              "       [ 1.        ,  0.34644821],\n",
              "       [ 1.        ,  0.2322537 ],\n",
              "       [ 1.        , -0.71435142],\n",
              "       [ 1.        ,  0.47383292],\n",
              "       [ 1.        ,  0.65655361],\n",
              "       [ 1.        ,  0.7870846 ],\n",
              "       [ 1.        , -0.82068232],\n",
              "       [ 1.        ,  0.41278093],\n",
              "       [ 1.        ,  1.89679298],\n",
              "       [ 1.        , -0.75373616],\n",
              "       [ 1.        , -0.81581028],\n",
              "       [ 1.        ,  0.34115197],\n",
              "       [ 1.        ,  0.82718325],\n",
              "       [ 1.        ,  1.45353408],\n",
              "       [ 1.        ,  2.72016917],\n",
              "       [ 1.        , -0.85715756],\n",
              "       [ 1.        ,  0.48247242],\n",
              "       [ 1.        ,  0.71400049],\n",
              "       [ 1.        , -0.07282891],\n",
              "       [ 1.        , -1.51484722],\n",
              "       [ 1.        ,  0.85639879],\n",
              "       [ 1.        , -1.24573878],\n",
              "       [ 1.        ,  0.38531738],\n",
              "       [ 1.        ,  0.15372511],\n",
              "       [ 1.        , -1.1429703 ]])"
            ]
          },
          "execution_count": 87,
          "metadata": {},
          "output_type": "execute_result"
        }
      ],
      "source": [
        "X"
      ]
    },
    {
      "cell_type": "code",
      "execution_count": 88,
      "metadata": {
        "colab": {
          "base_uri": "https://localhost:8080/"
        },
        "id": "jYmS-WtjLWNv",
        "outputId": "b67accc5-2ac8-4310-bf3c-770d841c3cbe"
      },
      "outputs": [
        {
          "data": {
            "text/plain": [
              "(1, 1)"
            ]
          },
          "execution_count": 88,
          "metadata": {},
          "output_type": "execute_result"
        }
      ],
      "source": [
        "weight_sigma, noize_sigma"
      ]
    },
    {
      "cell_type": "code",
      "execution_count": 89,
      "metadata": {
        "colab": {
          "base_uri": "https://localhost:8080/"
        },
        "id": "WZIJKDKvJULT",
        "outputId": "44db4ee6-22ee-4de8-b231-256378a6b6c5"
      },
      "outputs": [
        {
          "data": {
            "text/plain": [
              "-3.402232444421978"
            ]
          },
          "execution_count": 89,
          "metadata": {},
          "output_type": "execute_result"
        }
      ],
      "source": [
        "# w_0*w_1\n",
        "xi_3 = -1/2 * 2*x.sum()/(weight_sigma**2)\n",
        "xi_3"
      ]
    },
    {
      "cell_type": "code",
      "execution_count": 90,
      "metadata": {
        "colab": {
          "base_uri": "https://localhost:8080/"
        },
        "id": "53PTR1JxJULU",
        "outputId": "7e893681-ddac-44c8-bb4f-0ed97406d547"
      },
      "outputs": [
        {
          "data": {
            "text/plain": [
              "409.89185775446674"
            ]
          },
          "execution_count": 90,
          "metadata": {},
          "output_type": "execute_result"
        }
      ],
      "source": [
        "# w_0\n",
        "xi_4 = -1/2 * -2*y.sum()/(weight_sigma**2) + -1/2 * 2*m/(noize_sigma**2)\n",
        "xi_4"
      ]
    },
    {
      "cell_type": "code",
      "execution_count": 91,
      "metadata": {
        "colab": {
          "base_uri": "https://localhost:8080/"
        },
        "id": "QYZFMdVdJULU",
        "outputId": "a01dd910-e12e-46ca-a439-9968a1045e15"
      },
      "outputs": [
        {
          "data": {
            "text/plain": [
              "array([96.23840845])"
            ]
          },
          "execution_count": 91,
          "metadata": {},
          "output_type": "execute_result"
        }
      ],
      "source": [
        "# w_1\n",
        "xi_5 = -1/2 * -2*x.dot(y)/(weight_sigma**2) + -1/2 * 2*m/(noize_sigma**2)\n",
        "xi_5"
      ]
    },
    {
      "cell_type": "code",
      "execution_count": 92,
      "metadata": {
        "colab": {
          "base_uri": "https://localhost:8080/"
        },
        "id": "4W3MjO1EJULW",
        "outputId": "8ad38bca-484a-45e3-ab19-a90ed08fa4b1"
      },
      "outputs": [
        {
          "data": {
            "text/plain": [
              "-0.03387213407310486"
            ]
          },
          "execution_count": 92,
          "metadata": {},
          "output_type": "execute_result"
        }
      ],
      "source": [
        "p = xi_3/(2* (xi_1 * xi_2)**(0.5))\n",
        "p"
      ]
    },
    {
      "cell_type": "code",
      "execution_count": 93,
      "metadata": {
        "colab": {
          "base_uri": "https://localhost:8080/"
        },
        "id": "f81QbNj2JULX",
        "outputId": "7570c4c0-e536-4c1a-988c-3d291d3eb690"
      },
      "outputs": [
        {
          "data": {
            "text/plain": [
              "0.09956084956244725"
            ]
          },
          "execution_count": 93,
          "metadata": {},
          "output_type": "execute_result"
        }
      ],
      "source": [
        "# sigma 1\n",
        "b_1 = 1/((-xi_1*2*(1-p**2))**(0.5))\n",
        "b_1"
      ]
    },
    {
      "cell_type": "code",
      "execution_count": 94,
      "metadata": {
        "colab": {
          "base_uri": "https://localhost:8080/"
        },
        "id": "HOjjnUEQJULX",
        "outputId": "b4cee04f-f737-42b5-ff0a-cb0bc702add0"
      },
      "outputs": [
        {
          "data": {
            "text/plain": [
              "0.10011255506201089"
            ]
          },
          "execution_count": 94,
          "metadata": {},
          "output_type": "execute_result"
        }
      ],
      "source": [
        "# sigma 2\n",
        "b_2 = 1/((-xi_2*2*(1-p**2))**(0.5))\n",
        "b_2"
      ]
    },
    {
      "cell_type": "code",
      "execution_count": 95,
      "metadata": {
        "colab": {
          "base_uri": "https://localhost:8080/"
        },
        "id": "_BpmxGAqNX8B",
        "outputId": "8b8b6530-5310-49ba-e5c3-016d2b4e6a25"
      },
      "outputs": [
        {
          "data": {
            "text/plain": [
              "-0.03387213407310486"
            ]
          },
          "execution_count": 95,
          "metadata": {},
          "output_type": "execute_result"
        }
      ],
      "source": [
        "p"
      ]
    },
    {
      "cell_type": "code",
      "execution_count": 96,
      "metadata": {
        "colab": {
          "base_uri": "https://localhost:8080/"
        },
        "id": "TrQtIsjTJULY",
        "outputId": "c0e2a2e8-0ab3-4214-82a8-3102c9343846"
      },
      "outputs": [
        {
          "data": {
            "text/plain": [
              "-50.50000000000001"
            ]
          },
          "execution_count": 96,
          "metadata": {},
          "output_type": "execute_result"
        }
      ],
      "source": [
        "a = -1/(2*(1-p*p)*b_1*b_1)\n",
        "a"
      ]
    },
    {
      "cell_type": "code",
      "execution_count": 97,
      "metadata": {
        "colab": {
          "base_uri": "https://localhost:8080/"
        },
        "id": "RfYxLHEEJULY",
        "outputId": "ec9b304f-982b-49ff-9338-042e19f3b2ad"
      },
      "outputs": [
        {
          "data": {
            "text/plain": [
              "-49.94493758187462"
            ]
          },
          "execution_count": 97,
          "metadata": {},
          "output_type": "execute_result"
        }
      ],
      "source": [
        "b = -1 / (2 * (1-p**2)) * 1 / (b_2**2)\n",
        "b"
      ]
    },
    {
      "cell_type": "code",
      "execution_count": 98,
      "metadata": {
        "colab": {
          "base_uri": "https://localhost:8080/"
        },
        "id": "pj8DZ1dPJULZ",
        "outputId": "80ea02c5-bb56-42fc-882a-125cd6c7f105"
      },
      "outputs": [
        {
          "data": {
            "text/plain": [
              "-3.402232444421978"
            ]
          },
          "execution_count": 98,
          "metadata": {},
          "output_type": "execute_result"
        }
      ],
      "source": [
        "c = xi_3\n",
        "c"
      ]
    },
    {
      "cell_type": "code",
      "execution_count": 99,
      "metadata": {},
      "outputs": [
        {
          "data": {
            "text/plain": [
              "array([4.03050541])"
            ]
          },
          "execution_count": 99,
          "metadata": {},
          "output_type": "execute_result"
        }
      ],
      "source": [
        "m_1 = (- xi_3 * xi_5 + 2 * xi_2 * xi_4)/(-4 * xi_1 * xi_2 + xi_3 * xi_3)\n",
        "m_1"
      ]
    },
    {
      "cell_type": "code",
      "execution_count": 100,
      "metadata": {
        "colab": {
          "base_uri": "https://localhost:8080/"
        },
        "id": "Q0b89he1JULZ",
        "outputId": "138a262f-ed25-4045-f76c-8e5f0102aa31"
      },
      "outputs": [
        {
          "data": {
            "text/plain": [
              "array([0.82616674])"
            ]
          },
          "execution_count": 100,
          "metadata": {},
          "output_type": "execute_result"
        }
      ],
      "source": [
        "m_2 = (xi_4 + 2 * xi_1 * m_1)/(- xi_3)\n",
        "m_2"
      ]
    },
    {
      "cell_type": "code",
      "execution_count": 101,
      "metadata": {
        "id": "Ar-hAhGUMvV7"
      },
      "outputs": [],
      "source": [
        "b_12 = p * b_1 * b_2"
      ]
    },
    {
      "cell_type": "code",
      "execution_count": 102,
      "metadata": {},
      "outputs": [],
      "source": [
        "SIGMA = np.array([[b_1 * b_1, b_12],\n",
        "          [b_12, b_2 * b_2]])\n",
        "MU = [m_1, m_2]"
      ]
    },
    {
      "cell_type": "code",
      "execution_count": 103,
      "metadata": {},
      "outputs": [
        {
          "data": {
            "text/plain": [
              "<matplotlib.contour.QuadContourSet at 0x22187c276d0>"
            ]
          },
          "execution_count": 103,
          "metadata": {},
          "output_type": "execute_result"
        },
        {
          "data": {
            "image/png": "[encoded data removed]",
            "text/plain": [
              "<Figure size 432x288 with 1 Axes>"
            ]
          },
          "metadata": {
            "needs_background": "light"
          },
          "output_type": "display_data"
        }
      ],
      "source": [
        "#  MU - массив из m_1 m_2 SIGMA - составленная матрица\n",
        "from scipy.stats import multivariate_normal\n",
        "rv = multivariate_normal(mean=np.ravel(MU), cov=SIGMA)\n",
        "x, y = np.mgrid[-2:5:.01, -2:5:.01]\n",
        "pos = np.dstack((x, y))\n",
        "fig = plt.figure()\n",
        "ax = fig.add_subplot(111)\n",
        "ax.contourf(x, y, rv.pdf(pos))"
      ]
    },
    {
      "cell_type": "code",
      "execution_count": 104,
      "metadata": {},
      "outputs": [
        {
          "data": {
            "image/png": "[encoded data removed]",
            "text/plain": [
              "<Figure size 432x288 with 1 Axes>"
            ]
          },
          "metadata": {
            "needs_background": "light"
          },
          "output_type": "display_data"
        }
      ],
      "source": [
        "w = np.random.multivariate_normal(np.ravel(MU), SIGMA, 100)\n",
        "x = np.linspace(-5, 5, 100)\n",
        "for w0, w1 in w:\n",
        "  y = w0 + x*w1\n",
        "  plt.plot(x, y)"
      ]
    },
    {
      "cell_type": "code",
      "execution_count": null,
      "metadata": {},
      "outputs": [],
      "source": []
    }
  ],
  "metadata": {
    "colab": {
      "name": "Lec3-LinearRegression2.ipynb",
      "provenance": []
    },
    "interpreter": {
      "hash": "7bb4ef3929ba2b3cff5c7c066675259b7e6e26497036bb9e6a9a5ed6dc85a661"
    },
    "kernelspec": {
      "display_name": "Python 3.8.8 64-bit ('base': conda)",
      "name": "python3"
    },
    "language_info": {
      "codemirror_mode": {
        "name": "ipython",
        "version": 3
      },
      "file_extension": ".py",
      "mimetype": "text/x-python",
      "name": "python",
      "nbconvert_exporter": "python",
      "pygments_lexer": "ipython3",
      "version": "3.8.8"
    },
    "orig_nbformat": 4
  },
  "nbformat": 4,
  "nbformat_minor": 0
}
