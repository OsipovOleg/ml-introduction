{
  "cells": [
    {
      "cell_type": "code",
      "execution_count": 1,
      "metadata": {
        "id": "8ZNPH2jhJ7e6"
      },
      "outputs": [],
      "source": [
        "import numpy as np\n",
        "import pandas as pd\n",
        "import matplotlib.pyplot as plt\n",
        "%matplotlib inline\n",
        "\n",
        "pd.set_option('display.max_rows', 100)\n",
        "pd.set_option('display.max_columns', 100)"
      ]
    },
    {
      "cell_type": "code",
      "execution_count": 2,
      "metadata": {
        "id": "ptgQ_II5J-FT"
      },
      "outputs": [],
      "source": [
        "from sklearn.datasets import make_classification\n",
        "from sklearn.model_selection import train_test_split\n",
        "\n",
        "X, y = make_classification(\n",
        "    n_samples=10000, n_features=10, n_informative=5, n_redundant=5,\n",
        "    random_state=42)\n",
        "\n",
        "X_train, X_test, y_train, y_test = train_test_split(\n",
        "    X, y, test_size=0.3, random_state=42)"
      ]
    },
    {
      "cell_type": "code",
      "execution_count": 3,
      "metadata": {
        "colab": {
          "base_uri": "https://localhost:8080/"
        },
        "id": "ZrJlWPP1KClT",
        "outputId": "6beb6637-8dd1-41a2-c4d5-b51edda1a071"
      },
      "outputs": [
        {
          "data": {
            "text/plain": [
              "LinearSVC(C=0.3)"
            ]
          },
          "execution_count": 3,
          "metadata": {},
          "output_type": "execute_result"
        }
      ],
      "source": [
        "from sklearn.svm import LinearSVC\n",
        "svm_lin = LinearSVC(C=0.3)\n",
        "svm_lin.fit(X,y)"
      ]
    },
    {
      "cell_type": "code",
      "execution_count": 4,
      "metadata": {
        "id": "us3l_A6HZAPD"
      },
      "outputs": [],
      "source": [
        "from sklearn.metrics import roc_auc_score"
      ]
    },
    {
      "cell_type": "code",
      "execution_count": 5,
      "metadata": {
        "id": "fSEyakdpZgJw"
      },
      "outputs": [],
      "source": [
        "from sklearn.linear_model import LogisticRegression\n"
      ]
    },
    {
      "cell_type": "code",
      "execution_count": 6,
      "metadata": {
        "colab": {
          "base_uri": "https://localhost:8080/"
        },
        "id": "TksjKjC5ZdtS",
        "outputId": "1c529132-3333-4df1-fee0-271b05399662"
      },
      "outputs": [
        {
          "data": {
            "text/plain": [
              "LogisticRegression()"
            ]
          },
          "execution_count": 6,
          "metadata": {},
          "output_type": "execute_result"
        }
      ],
      "source": [
        "model = LogisticRegression(solver='lbfgs')\n",
        "model.fit(X_train, y_train)"
      ]
    },
    {
      "cell_type": "code",
      "execution_count": 7,
      "metadata": {
        "id": "_eMRsks1ZBIS"
      },
      "outputs": [],
      "source": [
        "lr_probs = model.predict_proba(X_test)\n",
        "# сохраняем вероятности только для положительного исхода\n",
        "lr_probs = lr_probs[:, 1]\n",
        "# рассчитываем ROC AUC\n",
        "lr_auc = roc_auc_score(y_test, lr_probs)"
      ]
    },
    {
      "cell_type": "code",
      "execution_count": 8,
      "metadata": {
        "colab": {
          "base_uri": "https://localhost:8080/"
        },
        "id": "qSdbE9G4ZoH_",
        "outputId": "8d9978c0-5e1d-4a35-fd90-8af8618b6612"
      },
      "outputs": [
        {
          "name": "stdout",
          "output_type": "stream",
          "text": [
            "LogisticRegression: ROC AUC=0.84787\n"
          ]
        }
      ],
      "source": [
        "print('LogisticRegression: ROC AUC=%.5f' % (lr_auc))\n"
      ]
    },
    {
      "cell_type": "code",
      "execution_count": 9,
      "metadata": {
        "id": "TXH4sMy_hB-a"
      },
      "outputs": [],
      "source": [
        "from sklearn.metrics import average_precision_score"
      ]
    },
    {
      "cell_type": "code",
      "execution_count": 10,
      "metadata": {
        "id": "R9EeVVwThn_q"
      },
      "outputs": [],
      "source": [
        "lr_probs = model.predict_proba(X_test)\n",
        "# сохраняем вероятности только для положительного исхода\n",
        "lr_probs = lr_probs[:, 1]\n",
        "# рассчитываем ROC AUC\n",
        "lr_pr = average_precision_score(y_test, lr_probs)"
      ]
    },
    {
      "cell_type": "code",
      "execution_count": 11,
      "metadata": {
        "colab": {
          "base_uri": "https://localhost:8080/"
        },
        "id": "r_cawnGshseA",
        "outputId": "587e1886-6733-4469-c3c9-4ff2e48c0501"
      },
      "outputs": [
        {
          "name": "stdout",
          "output_type": "stream",
          "text": [
            "LogisticRegression: PR=0.82938\n"
          ]
        }
      ],
      "source": [
        "print('LogisticRegression: PR=%.5f' % (lr_pr))\n"
      ]
    },
    {
      "cell_type": "code",
      "execution_count": 12,
      "metadata": {
        "id": "dFSaec49awx-"
      },
      "outputs": [],
      "source": [
        "from matplotlib import pyplot\n",
        "from sklearn.metrics import roc_curve\n"
      ]
    },
    {
      "cell_type": "code",
      "execution_count": 13,
      "metadata": {
        "colab": {
          "base_uri": "https://localhost:8080/",
          "height": 264
        },
        "id": "TMVL2ku1aqU-",
        "outputId": "65c96bb9-9e8a-4dab-a1e1-fcfa5901d178"
      },
      "outputs": [
        {
          "data": {
            "image/png": "[encoded data removed]",
            "text/plain": [
              "<Figure size 432x288 with 1 Axes>"
            ]
          },
          "metadata": {
            "needs_background": "light"
          },
          "output_type": "display_data"
        }
      ],
      "source": [
        "fpr, tpr, thresholds = roc_curve(y_test, lr_probs)\n",
        "# plot no skill\n",
        "pyplot.plot([0, 1], [0, 1], linestyle='--')\n",
        "# plot the roc curve for the model\n",
        "pyplot.plot(fpr, tpr, marker='.')\n",
        "# show the plot\n",
        "pyplot.show()\n"
      ]
    },
    {
      "cell_type": "code",
      "execution_count": 14,
      "metadata": {
        "id": "_cSo068Og7Er"
      },
      "outputs": [],
      "source": [
        "from sklearn.metrics import precision_recall_curve"
      ]
    },
    {
      "cell_type": "code",
      "execution_count": 15,
      "metadata": {
        "colab": {
          "base_uri": "https://localhost:8080/",
          "height": 264
        },
        "id": "3-wa3wEwg-I0",
        "outputId": "4f75fb9e-a666-4ca0-d75a-5f44ec5078d0"
      },
      "outputs": [
        {
          "data": {
            "image/png": "[encoded data removed]",
            "text/plain": [
              "<Figure size 432x288 with 1 Axes>"
            ]
          },
          "metadata": {
            "needs_background": "light"
          },
          "output_type": "display_data"
        }
      ],
      "source": [
        "fpr, tpr, thresholds = precision_recall_curve(y_test, lr_probs)\n",
        "# plot no skill\n",
        "pyplot.plot([0, 1], [0, 1], linestyle='--')\n",
        "# plot the roc curve for the model\n",
        "pyplot.plot(fpr, tpr, marker='.')\n",
        "# show the plot\n",
        "pyplot.show()"
      ]
    },
    {
      "cell_type": "code",
      "execution_count": 16,
      "metadata": {
        "id": "nhBmlWHKiNJ4"
      },
      "outputs": [],
      "source": [
        "from sklearn.linear_model import LogisticRegression as LR"
      ]
    },
    {
      "cell_type": "code",
      "execution_count": 17,
      "metadata": {
        "id": "KRsqlRfhQ0YS"
      },
      "outputs": [],
      "source": [
        "lrl2 = LR(penalty=\"l2\", solver=\"liblinear\", C=0.5, max_iter=1000) #регуляр2\n"
      ]
    },
    {
      "cell_type": "code",
      "execution_count": 18,
      "metadata": {
        "colab": {
          "base_uri": "https://localhost:8080/"
        },
        "id": "CG3OqREzQ5PE",
        "outputId": "6b37d2cb-97f1-430a-a9cc-f1e276a63e2a"
      },
      "outputs": [
        {
          "name": "stdout",
          "output_type": "stream",
          "text": [
            "[[ 0.23468253  0.33939531  0.07649094  0.19129572  0.08545161 -0.08263583\n",
            "  -0.05426057 -0.30746511 -0.26454876  0.04404188]]\n",
            "[10]\n"
          ]
        }
      ],
      "source": [
        "lrl2 = lrl2.fit(X, y)\n",
        "\n",
        "print(lrl2.coef_)\n",
        "print((lrl2.coef_ != 0).sum(axis=1))\n"
      ]
    }
  ],
  "metadata": {
    "colab": {
      "collapsed_sections": [],
      "name": "Untitled0.ipynb",
      "provenance": []
    },
    "kernelspec": {
      "display_name": "Python 3",
      "name": "python3"
    },
    "language_info": {
      "codemirror_mode": {
        "name": "ipython",
        "version": 3
      },
      "file_extension": ".py",
      "mimetype": "text/x-python",
      "name": "python",
      "nbconvert_exporter": "python",
      "pygments_lexer": "ipython3",
      "version": "3.8.8"
    }
  },
  "nbformat": 4,
  "nbformat_minor": 0
}
